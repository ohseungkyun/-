{
 "cells": [
  {
   "cell_type": "code",
   "execution_count": 1,
   "id": "unlimited-charm",
   "metadata": {},
   "outputs": [],
   "source": [
    "from sklearn.neighbors import KNeighborsClassifier"
   ]
  },
  {
   "cell_type": "code",
   "execution_count": 7,
   "id": "connected-oxford",
   "metadata": {},
   "outputs": [],
   "source": [
    "classifier1 = KNeighborsClassifier(n_neighbors = 2)"
   ]
  },
  {
   "cell_type": "code",
   "execution_count": 8,
   "id": "equivalent-persian",
   "metadata": {},
   "outputs": [
    {
     "data": {
      "text/plain": [
       "KNeighborsClassifier(n_neighbors=2)"
      ]
     },
     "execution_count": 8,
     "metadata": {},
     "output_type": "execute_result"
    }
   ],
   "source": [
    "training_points = [[0.5, 0.2, 0.1],[0.9, 0.7, 0.3],[0.4, 0.5, 0.7]]\n",
    "training_labels = [0, 1, 1]\n",
    "\n",
    "classifier.fit(training_points, training_labels)"
   ]
  },
  {
   "cell_type": "code",
   "execution_count": 9,
   "id": "stock-voluntary",
   "metadata": {},
   "outputs": [
    {
     "name": "stdout",
     "output_type": "stream",
     "text": [
      "[0]\n"
     ]
    }
   ],
   "source": [
    "unknown_points=[[0.2, 0.1, 0.7]]\n",
    "guesses=classifier.predict(unknown_points)\n",
    "print(guesses)"
   ]
  },
  {
   "cell_type": "code",
   "execution_count": 11,
   "id": "peripheral-chassis",
   "metadata": {},
   "outputs": [],
   "source": [
    "classifier2 = KNeighborsClassifier(n_neighbors = 3)"
   ]
  },
  {
   "cell_type": "code",
   "execution_count": 12,
   "id": "integrated-lingerie",
   "metadata": {},
   "outputs": [
    {
     "data": {
      "text/plain": [
       "KNeighborsClassifier(n_neighbors=3)"
      ]
     },
     "execution_count": 12,
     "metadata": {},
     "output_type": "execute_result"
    }
   ],
   "source": [
    "training_points2 = [[158, 58],[158, 59],[158, 63],[160, 59],[160, 60],[163,60],[163,61],[160,64],[163,64],[165,61],[165,62],[165,65],[168,62],[168,63],[168,66],[170,63],[170,64],[170,68]]\n",
    "training_labels2 = [0,0,0,0,0,0,0,1,1,1,1,1,1,1,1,1,1,1]\n",
    "classifier2.fit(training_points2, training_labels2)"
   ]
  },
  {
   "cell_type": "code",
   "execution_count": 13,
   "id": "prescribed-delivery",
   "metadata": {},
   "outputs": [
    {
     "name": "stdout",
     "output_type": "stream",
     "text": [
      "[0]\n"
     ]
    }
   ],
   "source": [
    "unknown_points2=[[161,61]]\n",
    "guesses2=classifier2.predict(unknown_points2)\n",
    "print(guesses2)"
   ]
  },
  {
   "cell_type": "code",
   "execution_count": 14,
   "id": "spectacular-carter",
   "metadata": {},
   "outputs": [],
   "source": [
    "classifier3 = KNeighborsClassifier(n_neighbors = 5)"
   ]
  },
  {
   "cell_type": "code",
   "execution_count": 16,
   "id": "olive-printing",
   "metadata": {},
   "outputs": [
    {
     "data": {
      "text/plain": [
       "KNeighborsClassifier()"
      ]
     },
     "execution_count": 16,
     "metadata": {},
     "output_type": "execute_result"
    }
   ],
   "source": [
    "classifier3.fit(training_points2, training_labels2)"
   ]
  },
  {
   "cell_type": "code",
   "execution_count": null,
   "id": "cleared-pontiac",
   "metadata": {},
   "outputs": [],
   "source": []
  }
 ],
 "metadata": {
  "kernelspec": {
   "display_name": "Python 3",
   "language": "python",
   "name": "python3"
  },
  "language_info": {
   "codemirror_mode": {
    "name": "ipython",
    "version": 3
   },
   "file_extension": ".py",
   "mimetype": "text/x-python",
   "name": "python",
   "nbconvert_exporter": "python",
   "pygments_lexer": "ipython3",
   "version": "3.8.6"
  }
 },
 "nbformat": 4,
 "nbformat_minor": 5
}
